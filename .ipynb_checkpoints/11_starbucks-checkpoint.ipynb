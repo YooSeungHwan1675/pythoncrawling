{
 "cells": [
  {
   "cell_type": "code",
   "execution_count": 10,
   "id": "581bab63",
   "metadata": {},
   "outputs": [],
   "source": [
    "import warnings\n",
    "warnings.filterwarnings(action='ignore')\n",
    "%config Computer.use_jedi = False\n",
    "import requests\n",
    "import json"
   ]
  },
  {
   "cell_type": "markdown",
   "id": "c80bba6b",
   "metadata": {},
   "source": [
    "시도 코드 크롤링"
   ]
  },
  {
   "cell_type": "code",
   "execution_count": 38,
   "id": "2a60945e",
   "metadata": {},
   "outputs": [
    {
     "name": "stdout",
     "output_type": "stream",
     "text": [
      "{'01': '서울', '08': '경기', '02': '광주', '03': '대구', '04': '대전', '05': '부산', '06': '울산', '07': '인천', '09': '강원', '10': '경남', '11': '경북', '12': '전남', '13': '전북', '14': '충남', '15': '충북', '16': '제주', '17': '세종'}\n"
     ]
    }
   ],
   "source": [
    "targetSite = 'https://www.starbucks.co.kr/store/getSidoList.do'\n",
    "# Request URL(http://www.starbucks.co.kr/store/getSidoList.do)을 요청하는 Request Method가 POST이므로 requests 모듈의\n",
    "# POST 방식으로 요청할 때는 data 속성에 딕셔너리 형태로 서버로 전송할 데이터를 넣어줘야하는데 서버로 전송할 데이터가 \n",
    "# 없으면 data 속성은 생략해도된다.\n",
    "# POST 방식으로 서버에 전송해야 할 데이터는 Payload탭에서 확인할 수 있다 .\n",
    "request = requests.post(targetSite, data={\n",
    "    'rndCod' : 'RN8DDM4QXT' # rndCod는 전달 하지 않아도 상관없다.\n",
    "})\n",
    "# print(request) # <Response [200]>\n",
    "\n",
    "starbucks = request.text\n",
    "#print(type(starbucks)) # <class 'str'>\n",
    "#print(starbucks)\n",
    "\n",
    "# json 모듈의 loads() 메소드나 requests 모듈의 json() 메소드를 사용해서 서버에서 응답받은 문자열 데이터를 파이썬에서 \n",
    "# 사용할 수 있는 자료형(리스트 또는 딕셔너리)으로 변환해서 작업한다.\n",
    "# sidoList = json.loads(starbucks)\n",
    "sidoList = request.json()\n",
    "#print(type(sidoList)) # <class 'dict'>\n",
    "#print(sidoList)\n",
    "\n",
    "# sidoList에는 문자열 형태의 json 데이터가 파이썬이 처리할 수 있는 딕셔너리 형태로 변환되서 저장되었다.\n",
    "# 딕셔너리로 변환된 데이터에서 'list'라는 key에 할당된 시도 정보를 얻어온다.\n",
    "#print(len(sidoList.get('list')))\n",
    "#print(sidoList.get('list'))\n",
    "#print(len(sidoList['list']))\n",
    "#print(type(sidoList['list']))\n",
    "#print(sidoList.get('list1'))\n",
    "\n",
    "# 시도코드의 개수만큼 반속하여 시도코드('sido_cd')를 key로 하고 시도 이름('sido_nm')을 value로 딕셔너리를 만든다.\n",
    "sido_list = {}\n",
    "for sido in sidoList['list']:\n",
    "    # print(type(sido)) # <class 'dict'>\n",
    "    # print('{}:{}'.format(sido.get('sido_cd'),sido['sido_nm']))\n",
    "    sido_list[sido.get('sido_cd')] = sido['sido_nm']\n",
    "print(sido_list)"
   ]
  },
  {
   "cell_type": "markdown",
   "id": "6e9a9b2d",
   "metadata": {},
   "source": [
    "구군코드 크롤링"
   ]
  },
  {
   "cell_type": "code",
   "execution_count": null,
   "id": "65b809b0",
   "metadata": {},
   "outputs": [],
   "source": [
    "sido_cd = input('구군코드를 검색하려는 시도코드를 입력하세요:')\n",
    "targetSite = 'https://www.starbucks.co.kr/store/getGugunList.do'\n",
    "request = requests.post(targetSite, data={\n",
    "    'sido_cd' : sido_cd\n",
    "})\n",
    "\n",
    "# print(type(request.text))\n",
    "# print(type(request.json()))\n",
    "gugunList = request.json()\n",
    "#print(len(gugunList)) # 1\n",
    "#print(gugunList.keys()) # dict_keys(['list'])\n",
    "#print(len(gugunList['list'])) # 25(서울), 42(경기) , ...\n",
    "\n",
    "# 구군코드의 개수만큼 반속하여 구군코드('gugun_cd')를 key로 하고 시도 이름('gugun_nm')을 value로 딕셔너리를 만든다.\n",
    "gugun_list = {}\n",
    "for gugun in gugunList['list']:\n",
    "    gugun_list[gugun.get('gugun_cd')] = gugun['gugun_nm']\n",
    "print(gugun_list)"
   ]
  },
  {
   "cell_type": "code",
   "execution_count": null,
   "id": "68c22314",
   "metadata": {},
   "outputs": [],
   "source": [
    "targetSite = 'https://www.starbucks.co.kr/store/getStore.do?r=A4HTV1LTE3'\n",
    "request = requests.post(targetSite, data={\n",
    "    'ins_lat': 37.563398, # 위도\n",
    "    'ins_lng': 126.9863309, # 경도\n",
    "    'p_sido_cd': 01, # 시도코드 \n",
    "    'p_gugun_cd': '', #구군코드 \n",
    "    'in_biz_cd':'', # ? \n",
    "    'iend': 100  # 서버가 응답하는 최대 매장의 개수\n",
    "    'set_date': '' # ?\n",
    "    # in_biz_cd, set_date를 넘겨주지 않으면 서버에서 데이터를 얻어오지 못한다.\n",
    "    'rndCod': 83TU2YV9ER\n",
    "})"
   ]
  },
  {
   "cell_type": "code",
   "execution_count": null,
   "id": "1fe84342",
   "metadata": {},
   "outputs": [],
   "source": []
  }
 ],
 "metadata": {
  "kernelspec": {
   "display_name": "Python 3",
   "language": "python",
   "name": "python3"
  },
  "language_info": {
   "codemirror_mode": {
    "name": "ipython",
    "version": 3
   },
   "file_extension": ".py",
   "mimetype": "text/x-python",
   "name": "python",
   "nbconvert_exporter": "python",
   "pygments_lexer": "ipython3",
   "version": "3.6.8"
  }
 },
 "nbformat": 4,
 "nbformat_minor": 5
}
