{
 "cells": [
  {
   "cell_type": "code",
   "execution_count": 4,
   "id": "d6b09e0d",
   "metadata": {},
   "outputs": [],
   "source": [
    "import warnings\n",
    "warnings.filterwarnings(action='ignore')\n",
    "%config Computer.use_jedi = False\n",
    "import requests\n",
    "# BeautifulSoup은 html 문서를 파싱할 때 사용하므로 json 형태로 넘어오는 데이터에서는 사용하지 않는다.\n",
    "# from bs4 import BeautifulSoup\n",
    "import json # json 형태의 문자열을 파이썬에서 처리하기 위해 import 한다."
   ]
  },
  {
   "cell_type": "markdown",
   "id": "72c398d6",
   "metadata": {},
   "source": [
    "<img src=\"./images/ajax1.png\" width=\"600\" align=\"left\">"
   ]
  },
  {
   "cell_type": "markdown",
   "id": "90bbb17d",
   "metadata": {},
   "source": [
    "<img src=\"./images/ajax2.png\" width=\"600\" align=\"left\">"
   ]
  },
  {
   "cell_type": "code",
   "execution_count": 11,
   "id": "9393dae9",
   "metadata": {},
   "outputs": [
    {
     "name": "stdout",
     "output_type": "stream",
     "text": [
      "<Response [200]>\n"
     ]
    }
   ],
   "source": [
    "# 실시간 검색어가 웹 페이지에 전부 혹은 일부가 포함되어있지 않고 Ajax를 이용해서실시간으로 받아오는 방식이 사용된다.\n",
    "# Request Method가 Get이므로 requests 모듈의 get() 메소드를 사용해서 실시간 검색어를 서버에 요청해서 받아온다 .\n",
    "targetSite='https://www.nate.com/js/data/jsonLiveKeywordDataV1.js?v=202308241150'\n",
    "request = requests.get(targetSite)\n",
    "print(request)\n",
    "# 파이썬은 한글 encoding이 유니코드(utf-8)로 되어있기 때문에 'euc-kr'로 encoding 된 사이트를 크롤링 할 때 한글이 깨지면\n",
    "# 아래와 같이 한글 encoding을 바꿔주면 된다.\n",
    "# request.encoding = 'euc-kr'"
   ]
  },
  {
   "cell_type": "code",
   "execution_count": 12,
   "id": "fc60115c",
   "metadata": {},
   "outputs": [
    {
     "data": {
      "text/plain": [
       "'[[\"1\",  \"오염수 1시부터 방류\",  \"n\",  \"0\",  \"오염수 1시부터 방류\"], [\"2\",  \"3.5%로 동결 가계부채\",  \"n\",  \"0\",  \"3.5%로 동결 가계부채\"], [\"3\",  \"대학수학능력시험 응시원서\",  \"n\",  \"0\",  \"대학수학능력시험 응시원서 접수\"], [\"4\",  \"정찰위성 발사 망신\",  \"n\",  \"0\",  \"정찰위성 발사 망신\"], [\"5\",  \"이름 공모\",  \"n\",  \"0\",  \"이름 공모\"], [\"6\",  \"달남극 세계 우주\",  \"n\",  \"0\",  \"달남극 세계 우주\"], [\"7\",  \"그알 폐지 기만\",  \"n\",  \"0\",  \"그알 폐지 기만\"], [\"8\",  \"프리고진\",  \"-\",  \"3\",  \"프리고진\"], [\"9\",  \"홈플러스 송도점 지하주차장\",  \"n\",  \"0\",  \"홈플러스 송도점 지하주차장\"], [\"10\",  \"김하성 연속 20개\",  \"n\",  \"0\",  \"김하성 연속 20개\"]]'"
      ]
     },
     "execution_count": 12,
     "metadata": {},
     "output_type": "execute_result"
    }
   ],
   "source": [
    "request.text"
   ]
  },
  {
   "cell_type": "markdown",
   "id": "81fb8b44",
   "metadata": {},
   "source": [
    "json 형태의 문자열로 얻어온 실시간 이슈는 파이썬에서 처리할 수 있는 데이터 타입으로 변환해서 처리한다."
   ]
  },
  {
   "cell_type": "code",
   "execution_count": null,
   "id": "573386cd",
   "metadata": {},
   "outputs": [],
   "source": [
    "# json 모듈의 loads() 메소드는 json 형태의 문자열이 {}를 포함하면 딕셔너리로 []를 포함하면 리스트 형태로 변환한다.\n"
   ]
  },
  {
   "cell_type": "code",
   "execution_count": null,
   "id": "559e2459",
   "metadata": {},
   "outputs": [],
   "source": []
  }
 ],
 "metadata": {
  "kernelspec": {
   "display_name": "Python 3",
   "language": "python",
   "name": "python3"
  },
  "language_info": {
   "codemirror_mode": {
    "name": "ipython",
    "version": 3
   },
   "file_extension": ".py",
   "mimetype": "text/x-python",
   "name": "python",
   "nbconvert_exporter": "python",
   "pygments_lexer": "ipython3",
   "version": "3.6.8"
  }
 },
 "nbformat": 4,
 "nbformat_minor": 5
}
