{
 "cells": [
  {
   "cell_type": "code",
   "execution_count": 1,
   "id": "2a214bed",
   "metadata": {},
   "outputs": [],
   "source": [
    "import warnings\n",
    "warnings.filterwarnings(action='ignore')\n",
    "%config Computer.use_jedi = False\n",
    "import requests\n",
    "from bs4 import BeautifulSoup\n",
    "from datetime import datetime as dt"
   ]
  },
  {
   "cell_type": "code",
   "execution_count": 2,
   "id": "2fca8d3f",
   "metadata": {
    "scrolled": false
   },
   "outputs": [],
   "source": [
    "targetSite = 'https://www.bikeseoul.com/app/station/moveStationRealtimeStatus.do'\n",
    "header = {'User-agent': 'Mozilla/5.0 (Windows NT 6.3; WOW64; Trident/7.0; rv:11.0) like Gecko'}\n",
    "request = requests.get(targetSite, headers=header)\n",
    "html = request.text\n",
    "soup = BeautifulSoup(html,'html.parser')"
   ]
  },
  {
   "cell_type": "code",
   "execution_count": 3,
   "id": "452f3633",
   "metadata": {},
   "outputs": [
    {
     "name": "stdout",
     "output_type": "stream",
     "text": [
      "루페온\n",
      "실리안\n",
      "루페온\n",
      "루페온\n",
      "루페온\n",
      "루페온\n",
      "루페온\n",
      "아브렐슈드\n",
      "카단\n",
      "카단\n",
      "아만\n",
      "아만\n",
      "카단\n",
      "카단\n",
      "루페온\n",
      "아만\n",
      "카마인\n",
      "루페온\n",
      "카제로스\n",
      "니나브\n",
      "아만\n",
      "니나브\n",
      "아만\n",
      "카마인\n",
      "실리안\n",
      "아만\n",
      "아만\n",
      "루페온\n",
      "아만\n",
      "카마인\n",
      "카마인\n",
      "카마인\n",
      "아브렐슈드\n",
      "루페온\n",
      "니나브\n",
      "카마인\n",
      "루페온\n",
      "니나브\n",
      "루페온\n",
      "루페온\n",
      "아만\n",
      "카단\n",
      "카마인\n",
      "루페온\n",
      "루페온\n",
      "카제로스\n",
      "루페온\n",
      "실리안\n",
      "실리안\n",
      "카제로스\n"
     ]
    }
   ],
   "source": [
    "rankings= soup.findAll('span', {'class': 'font-normal text-2xs text-positive-lesser md:text-positive-less'})\n",
    "for i in range(len(rankings)):\n",
    "    print(rankings[i].text.strip())"
   ]
  },
  {
   "cell_type": "code",
   "execution_count": 4,
   "id": "0dd14217",
   "metadata": {},
   "outputs": [
    {
     "name": "stdout",
     "output_type": "stream",
     "text": [
      "닉네임: 원소술녀\n",
      "닉네임: 항상그놈\n",
      "닉네임: 방울토마토라면\n",
      "닉네임: 편지\n",
      "닉네임: 빈세로이\n",
      "닉네임: 체나\n",
      "닉네임: 버서커\n",
      "닉네임: 머리파괴장인\n",
      "닉네임: 한국\n",
      "닉네임: 설화희빈\n",
      "닉네임: 그린대표\n",
      "닉네임: 황득칠\n",
      "닉네임: 성왕용\n",
      "닉네임: 꽃비엘라\n",
      "닉네임: 살크업\n",
      "닉네임: 이승건\n",
      "닉네임: 땃쥐\n",
      "닉네임: 마스터Asia\n",
      "닉네임: 샛별\n",
      "닉네임: 스커박s\n",
      "닉네임: 목연타\n",
      "닉네임: 암살자애용이\n",
      "닉네임: 라블루소서\n",
      "닉네임: s0ngchus\n",
      "닉네임: ZealsTwitch\n",
      "닉네임: 킹쌈녀\n",
      "닉네임: 인사\n",
      "닉네임: 후탈\n",
      "닉네임: 뗀뗀\n",
      "닉네임: 티키케이\n",
      "닉네임: 대머리의기초유전학\n",
      "닉네임: 도도\n",
      "닉네임: 국뽕박살러\n",
      "닉네임: 간즈\n",
      "닉네임: 에스더규팡맨\n",
      "닉네임: 뽀s0ng\n",
      "닉네임: 우비소녀체나\n",
      "닉네임: toronge\n",
      "닉네임: 노돌리\n",
      "닉네임: 숯불바베큐치킨\n",
      "닉네임: 천황무인\n",
      "닉네임: 출근하고싶지않아\n",
      "닉네임: 꺼억콩\n",
      "닉네임: 괴물쥐\n",
      "닉네임: Rose아르\n",
      "닉네임: 보라냥이집사8\n",
      "닉네임: 카아안\n",
      "닉네임: 김뚜띠\n",
      "닉네임: 쌍검\n",
      "닉네임: 앙지니\n"
     ]
    }
   ],
   "source": [
    "name_tags = soup.find_all(\"span\", class_=\"flex flex-col font-semibold\")\n",
    "# decompose X\n",
    "for name_tag in name_tags:\n",
    "    for child in name_tag.find_all(\"span\", class_=\"font-normal text-2xs text-positive-lesser md:text-positive-less\"):\n",
    "        child.extract()\n",
    "\n",
    "    name = name_tag.get_text().strip()\n",
    "    print(\"닉네임:\", name)"
   ]
  },
  {
   "cell_type": "code",
   "execution_count": 5,
   "id": "cd4bc730",
   "metadata": {
    "scrolled": false
   },
   "outputs": [
    {
     "name": "stdout",
     "output_type": "stream",
     "text": [
      "  1위 서버 : 루페온 -  닉네임 : 원소술녀\n",
      "  2위 서버 : 실리안 -  닉네임 : 항상그놈\n",
      "  3위 서버 : 루페온 -  닉네임 : 방울토마토라면\n",
      "  4위 서버 : 루페온 -  닉네임 : 편지\n",
      "  5위 서버 : 루페온 -  닉네임 : 빈세로이\n",
      "  6위 서버 : 루페온 -  닉네임 : 체나\n",
      "  7위 서버 : 루페온 -  닉네임 : 버서커\n",
      "  8위 서버 : 아브렐슈드 -  닉네임 : 머리파괴장인\n",
      "  9위 서버 : 카단 -  닉네임 : 한국\n",
      " 10위 서버 : 카단 -  닉네임 : 설화희빈\n",
      " 11위 서버 : 아만 -  닉네임 : 그린대표\n",
      " 12위 서버 : 아만 -  닉네임 : 황득칠\n",
      " 13위 서버 : 카단 -  닉네임 : 성왕용\n",
      " 14위 서버 : 카단 -  닉네임 : 꽃비엘라\n",
      " 15위 서버 : 루페온 -  닉네임 : 살크업\n",
      " 16위 서버 : 아만 -  닉네임 : 이승건\n",
      " 17위 서버 : 카마인 -  닉네임 : 땃쥐\n",
      " 18위 서버 : 루페온 -  닉네임 : 마스터Asia\n",
      " 19위 서버 : 카제로스 -  닉네임 : 샛별\n",
      " 20위 서버 : 니나브 -  닉네임 : 스커박s\n",
      " 21위 서버 : 아만 -  닉네임 : 목연타\n",
      " 22위 서버 : 니나브 -  닉네임 : 암살자애용이\n",
      " 23위 서버 : 아만 -  닉네임 : 라블루소서\n",
      " 24위 서버 : 카마인 -  닉네임 : s0ngchus\n",
      " 25위 서버 : 실리안 -  닉네임 : ZealsTwitch\n",
      " 26위 서버 : 아만 -  닉네임 : 킹쌈녀\n",
      " 27위 서버 : 아만 -  닉네임 : 인사\n",
      " 28위 서버 : 루페온 -  닉네임 : 후탈\n",
      " 29위 서버 : 아만 -  닉네임 : 뗀뗀\n",
      " 30위 서버 : 카마인 -  닉네임 : 티키케이\n",
      " 31위 서버 : 카마인 -  닉네임 : 대머리의기초유전학\n",
      " 32위 서버 : 카마인 -  닉네임 : 도도\n",
      " 33위 서버 : 아브렐슈드 -  닉네임 : 국뽕박살러\n",
      " 34위 서버 : 루페온 -  닉네임 : 간즈\n",
      " 35위 서버 : 니나브 -  닉네임 : 에스더규팡맨\n",
      " 36위 서버 : 카마인 -  닉네임 : 뽀s0ng\n",
      " 37위 서버 : 루페온 -  닉네임 : 우비소녀체나\n",
      " 38위 서버 : 니나브 -  닉네임 : toronge\n",
      " 39위 서버 : 루페온 -  닉네임 : 노돌리\n",
      " 40위 서버 : 루페온 -  닉네임 : 숯불바베큐치킨\n",
      " 41위 서버 : 아만 -  닉네임 : 천황무인\n",
      " 42위 서버 : 카단 -  닉네임 : 출근하고싶지않아\n",
      " 43위 서버 : 카마인 -  닉네임 : 꺼억콩\n",
      " 44위 서버 : 루페온 -  닉네임 : 괴물쥐\n",
      " 45위 서버 : 루페온 -  닉네임 : Rose아르\n",
      " 46위 서버 : 카제로스 -  닉네임 : 보라냥이집사8\n",
      " 47위 서버 : 루페온 -  닉네임 : 카아안\n",
      " 48위 서버 : 실리안 -  닉네임 : 김뚜띠\n",
      " 49위 서버 : 실리안 -  닉네임 : 쌍검\n",
      " 50위 서버 : 카제로스 -  닉네임 : 앙지니\n"
     ]
    }
   ],
   "source": [
    "for i in range(50):\n",
    "    print('{:3d}위 서버 : {} -  닉네임 : {}'.format(i + 1 , rankings[i].text.strip(), name_tags[i].text.strip()))"
   ]
  },
  {
   "cell_type": "code",
   "execution_count": 6,
   "id": "372d9983",
   "metadata": {},
   "outputs": [
    {
     "name": "stdout",
     "output_type": "stream",
     "text": [
      "RANK50.txt 파일로쓰기 완료\n"
     ]
    }
   ],
   "source": [
    "with open('output/RANK50.txt','w', -1,'utf-8') as file:\n",
    "    file.write(dt.now().strftime('%Y-%m-%d %H:%M:%S')+'\\n')\n",
    "    for i in range(50):\n",
    "\n",
    "        \n",
    "        file.write('{:3d}위 {} - {}\\n'.format(i + 1 , rankings[i].text.strip(), name_tags[i].text.strip()))\n",
    "# ===== with\n",
    "print('RANK50.txt 파일로쓰기 완료')"
   ]
  }
 ],
 "metadata": {
  "kernelspec": {
   "display_name": "Python 3",
   "language": "python",
   "name": "python3"
  },
  "language_info": {
   "codemirror_mode": {
    "name": "ipython",
    "version": 3
   },
   "file_extension": ".py",
   "mimetype": "text/x-python",
   "name": "python",
   "nbconvert_exporter": "python",
   "pygments_lexer": "ipython3",
   "version": "3.6.8"
  }
 },
 "nbformat": 4,
 "nbformat_minor": 5
}
