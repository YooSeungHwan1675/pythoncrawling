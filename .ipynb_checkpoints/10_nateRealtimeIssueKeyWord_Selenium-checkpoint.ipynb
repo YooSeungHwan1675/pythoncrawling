{
 "cells": [
  {
   "cell_type": "code",
   "execution_count": 1,
   "id": "4a5e4504",
   "metadata": {},
   "outputs": [],
   "source": [
    "import warnings\n",
    "warnings.filterwarnings(action='ignore')\n",
    "%config Computer.use_jedi = False\n",
    "#import requests\n",
    "from bs4 import BeautifulSoup"
   ]
  },
  {
   "cell_type": "code",
   "execution_count": 5,
   "id": "772608c6",
   "metadata": {},
   "outputs": [],
   "source": [
    "# selenium을 사용하기 위해서 selenium을 설치하고 import 한다.\n",
    "# !pip install selenium\n",
    "from selenium import webdriver"
   ]
  },
  {
   "cell_type": "code",
   "execution_count": null,
   "id": "5e90ed2a",
   "metadata": {},
   "outputs": [],
   "source": [
    "# selenium을 사용해서 가상 크롬을 실행한다. => 사용중인 크롬 버전과 같은 버전의 드라이버를 os 에 맞게 다운받는다 .\n",
    "# 다운받은 크롬 드라이버를 워크스페이스에 복사해 넣고 사용한다.\n"
   ]
  },
  {
   "cell_type": "code",
   "execution_count": null,
   "id": "5ae70a17",
   "metadata": {},
   "outputs": [],
   "source": []
  },
  {
   "cell_type": "code",
   "execution_count": null,
   "id": "0fa95dbf",
   "metadata": {},
   "outputs": [],
   "source": []
  }
 ],
 "metadata": {
  "kernelspec": {
   "display_name": "Python 3",
   "language": "python",
   "name": "python3"
  },
  "language_info": {
   "codemirror_mode": {
    "name": "ipython",
    "version": 3
   },
   "file_extension": ".py",
   "mimetype": "text/x-python",
   "name": "python",
   "nbconvert_exporter": "python",
   "pygments_lexer": "ipython3",
   "version": "3.6.8"
  }
 },
 "nbformat": 4,
 "nbformat_minor": 5
}
