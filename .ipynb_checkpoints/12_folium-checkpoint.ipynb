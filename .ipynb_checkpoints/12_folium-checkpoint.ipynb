{
 "cells": [
  {
   "cell_type": "code",
   "execution_count": 1,
   "id": "a9f854bb",
   "metadata": {},
   "outputs": [],
   "source": [
    "# folium 라이브러리를 사용하면 지도를 이용한 시각화를 할 수 있다. \n",
    "# folium 라이브러리를 설치하고 import한다.\n",
    "# !pip install folium\n",
    "import folium"
   ]
  },
  {
   "cell_type": "code",
   "execution_count": null,
   "id": "6481debd",
   "metadata": {},
   "outputs": [],
   "source": [
    "# folium 라이브러리의 Map() 메소드의 location 속성에 지정한 위치(위도, 경도)를 중심으로 하는 zoom_start 옵션으로 지정한\n",
    "# 배율을 사용하는 지도를 만든다.\n"
   ]
  },
  {
   "cell_type": "code",
   "execution_count": null,
   "id": "429fc30a",
   "metadata": {},
   "outputs": [],
   "source": []
  }
 ],
 "metadata": {
  "kernelspec": {
   "display_name": "Python 3",
   "language": "python",
   "name": "python3"
  },
  "language_info": {
   "codemirror_mode": {
    "name": "ipython",
    "version": 3
   },
   "file_extension": ".py",
   "mimetype": "text/x-python",
   "name": "python",
   "nbconvert_exporter": "python",
   "pygments_lexer": "ipython3",
   "version": "3.6.8"
  }
 },
 "nbformat": 4,
 "nbformat_minor": 5
}
